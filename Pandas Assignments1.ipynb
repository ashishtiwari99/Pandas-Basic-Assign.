{
 "cells": [
  {
   "cell_type": "code",
   "execution_count": 1,
   "id": "11cfef4a-cd72-485c-b600-c05b2645b595",
   "metadata": {},
   "outputs": [],
   "source": [
    "#(Question.1)\n",
    "import pandas as pd"
   ]
  },
  {
   "cell_type": "code",
   "execution_count": 2,
   "id": "be9e31e3-c6af-43bb-9726-680b3656e9ac",
   "metadata": {},
   "outputs": [],
   "source": [
    "df = pd.Series([4,8,15,16,23,42])"
   ]
  },
  {
   "cell_type": "code",
   "execution_count": 3,
   "id": "c5697d14-a31d-41b6-a0a1-33c5b64420a4",
   "metadata": {},
   "outputs": [
    {
     "data": {
      "text/plain": [
       "0     4\n",
       "1     8\n",
       "2    15\n",
       "3    16\n",
       "4    23\n",
       "5    42\n",
       "dtype: int64"
      ]
     },
     "execution_count": 3,
     "metadata": {},
     "output_type": "execute_result"
    }
   ],
   "source": [
    "df"
   ]
  },
  {
   "cell_type": "code",
   "execution_count": 4,
   "id": "a7f1805f-ed4e-419a-b135-e32ba783fbae",
   "metadata": {},
   "outputs": [],
   "source": [
    "#(Question.2)\n",
    "v=[[1,2,3,4,5,6,7,8,9,10]]"
   ]
  },
  {
   "cell_type": "code",
   "execution_count": 5,
   "id": "58cb6948-908d-44c3-a08b-a6cbe6539f65",
   "metadata": {},
   "outputs": [
    {
     "data": {
      "text/plain": [
       "0    [1, 2, 3, 4, 5, 6, 7, 8, 9, 10]\n",
       "dtype: object"
      ]
     },
     "execution_count": 5,
     "metadata": {},
     "output_type": "execute_result"
    }
   ],
   "source": [
    "pd.Series(v)"
   ]
  },
  {
   "cell_type": "code",
   "execution_count": 6,
   "id": "6a80b461-01b6-46e5-ad94-ba9bc755ce0a",
   "metadata": {},
   "outputs": [],
   "source": [
    "#(Question.3)\n",
    "df = [['Name','Age','Gender'],['Alice',25,'Female'],['Bob',30,'Male'],['Claire',27,'Female']]"
   ]
  },
  {
   "cell_type": "code",
   "execution_count": 7,
   "id": "8782e83d-0dce-44dc-89c6-d6e13275692c",
   "metadata": {},
   "outputs": [
    {
     "data": {
      "text/html": [
       "<div>\n",
       "<style scoped>\n",
       "    .dataframe tbody tr th:only-of-type {\n",
       "        vertical-align: middle;\n",
       "    }\n",
       "\n",
       "    .dataframe tbody tr th {\n",
       "        vertical-align: top;\n",
       "    }\n",
       "\n",
       "    .dataframe thead th {\n",
       "        text-align: right;\n",
       "    }\n",
       "</style>\n",
       "<table border=\"1\" class=\"dataframe\">\n",
       "  <thead>\n",
       "    <tr style=\"text-align: right;\">\n",
       "      <th></th>\n",
       "      <th>0</th>\n",
       "      <th>1</th>\n",
       "      <th>2</th>\n",
       "    </tr>\n",
       "  </thead>\n",
       "  <tbody>\n",
       "    <tr>\n",
       "      <th>0</th>\n",
       "      <td>Name</td>\n",
       "      <td>Age</td>\n",
       "      <td>Gender</td>\n",
       "    </tr>\n",
       "    <tr>\n",
       "      <th>1</th>\n",
       "      <td>Alice</td>\n",
       "      <td>25</td>\n",
       "      <td>Female</td>\n",
       "    </tr>\n",
       "    <tr>\n",
       "      <th>2</th>\n",
       "      <td>Bob</td>\n",
       "      <td>30</td>\n",
       "      <td>Male</td>\n",
       "    </tr>\n",
       "    <tr>\n",
       "      <th>3</th>\n",
       "      <td>Claire</td>\n",
       "      <td>27</td>\n",
       "      <td>Female</td>\n",
       "    </tr>\n",
       "  </tbody>\n",
       "</table>\n",
       "</div>"
      ],
      "text/plain": [
       "        0    1       2\n",
       "0    Name  Age  Gender\n",
       "1   Alice   25  Female\n",
       "2     Bob   30    Male\n",
       "3  Claire   27  Female"
      ]
     },
     "execution_count": 7,
     "metadata": {},
     "output_type": "execute_result"
    }
   ],
   "source": [
    "pd.DataFrame(df)"
   ]
  },
  {
   "cell_type": "code",
   "execution_count": 8,
   "id": "2ac08edd-aedf-48c7-8d45-4b9625f320a6",
   "metadata": {},
   "outputs": [],
   "source": [
    "#(Question.4)\n",
    "\n",
    "#DataFrame - A Pandas DataFrame is a 2 dimensional data structure, like a 2 dimensional array, or a table with rows and columns.\n",
    "#As noted in the table, a Pandas Series is a 1D array of data, but a single-column DataFrame is a 2D table with one column. The main distinction between the two is this. For a single-column DataFrame, an index can be optional, but a Series has to have an index defined."
   ]
  },
  {
   "cell_type": "code",
   "execution_count": 23,
   "id": "27851c54-c0be-4d38-bb4a-5a3b1ae9b030",
   "metadata": {},
   "outputs": [],
   "source": [
    "#(Question.5)\n",
    "#Data Manipulation on Dataset - There are three support functions, . shape, . info() and . corr() which output the shape of the table, information on rows and columns, and correlation between numerical columns.\n",
    "#info() - The info() method prints information about the DataFrame.\n",
    "#The information contains the number of columns, column labels, column data types, memory usage, range index, and the number of cells in each column (non-null values).\n"
   ]
  },
  {
   "cell_type": "code",
   "execution_count": 24,
   "id": "d9a721c3-2b1f-4719-b5b4-d2232037c6a2",
   "metadata": {},
   "outputs": [],
   "source": [
    "#(Question-6)\n",
    "#DataFrame is mutuable in nature series."
   ]
  },
  {
   "cell_type": "code",
   "execution_count": 25,
   "id": "387f5384-347d-47e5-985e-1dcc7465dbc1",
   "metadata": {},
   "outputs": [
    {
     "data": {
      "text/plain": [
       "0      name\n",
       "1      roll\n",
       "0    ashish\n",
       "1        26\n",
       "0     bobby\n",
       "1        21\n",
       "dtype: object"
      ]
     },
     "execution_count": 25,
     "metadata": {},
     "output_type": "execute_result"
    }
   ],
   "source": [
    "#(Question.7)\n",
    "m1=['name','roll']\n",
    "m2=['ashish','26']\n",
    "m3=['bobby','21']\n",
    "l1=pd.Series(m1)\n",
    "l2=pd.Series(m2)\n",
    "l3=pd.Series(m3)\n",
    "pd.concat([l1,l2,l3])"
   ]
  },
  {
   "cell_type": "code",
   "execution_count": null,
   "id": "77e9e264-e431-49b7-bb09-abd397a2074b",
   "metadata": {},
   "outputs": [],
   "source": []
  }
 ],
 "metadata": {
  "kernelspec": {
   "display_name": "Python 3 (ipykernel)",
   "language": "python",
   "name": "python3"
  },
  "language_info": {
   "codemirror_mode": {
    "name": "ipython",
    "version": 3
   },
   "file_extension": ".py",
   "mimetype": "text/x-python",
   "name": "python",
   "nbconvert_exporter": "python",
   "pygments_lexer": "ipython3",
   "version": "3.10.8"
  }
 },
 "nbformat": 4,
 "nbformat_minor": 5
}
